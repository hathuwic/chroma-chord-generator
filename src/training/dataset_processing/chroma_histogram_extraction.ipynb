{
 "cells": [
  {
   "cell_type": "markdown",
   "id": "76b65698",
   "metadata": {},
   "source": [
    "# Chroma histogram extraction from MIDI files\n",
    "\n",
    "This notebook uses the MIDIFileProcessor class to extract chroma histograms from provided MIDI files.\n",
    "\n",
    "It is set up to expect the cleaned subset of the Lakh MIDI dataset: https://www.kaggle.com/datasets/imsparsh/lakh-midi-clean\n",
    "\n",
    "Extracted chroma histograms are saved as CSV files into the `chords_dataset` directory in the same directory as this notebook."
   ]
  },
  {
   "cell_type": "code",
   "execution_count": null,
   "id": "4030e22e-a0ca-4fa9-bbbd-f29f41a86d0f",
   "metadata": {},
   "outputs": [],
   "source": [
    "import numpy as np\n",
    "import pandas as pd\n",
    "import pretty_midi as pm\n",
    "import os\n",
    "import time\n",
    "import joblib\n",
    "import matplotlib.pyplot as plt\n",
    "from midi_file_processor import MIDIFileProcessor\n",
    "from datetime import timedelta"
   ]
  },
  {
   "cell_type": "markdown",
   "id": "0861b1e0-a482-40bf-b738-d90a126b6483",
   "metadata": {},
   "source": [
    "#### Load key classifier, define excluded directories, initialise dataframe, initialise processor object"
   ]
  },
  {
   "cell_type": "code",
   "execution_count": null,
   "id": "2fbbb0db-ddf9-4ddc-9324-3af532362bb0",
   "metadata": {
    "scrolled": true
   },
   "outputs": [],
   "source": [
    "key_classifier = joblib.load(\"./key_signature_classifier/key_classification_svc_model_2023-04-09_13-47-19.pkl\")\n",
    "\n",
    "dataset_root_dir = \"../datasets/Lakh_clean_MIDI/\"\n",
    "EXCLUDED = [\".DS_Store\", \"midiindx.htm\", \".gitattributes\", \"LICENSE\", \"README.md\"]\n",
    "\n",
    "DF_COLUMNS = [\"melody_chroma\", \"0\", \"1\", \"2\", \"3\", \"4\", \"5\", \"6\", \"7\", \"8\", \"9\", \"10\", \"11\"]\n",
    "\n",
    "processor = MIDIFileProcessor(key_classifier)"
   ]
  },
  {
   "cell_type": "markdown",
   "id": "88e71628-52f7-45f9-87fb-e49063a6b39b",
   "metadata": {},
   "source": [
    "#### Specify which artist folders to process using index"
   ]
  },
  {
   "cell_type": "code",
   "execution_count": null,
   "id": "491c0634-2574-4bdf-a3d6-e497a78f1736",
   "metadata": {
    "scrolled": true
   },
   "outputs": [],
   "source": [
    "chords_df = pd.DataFrame(columns=DF_COLUMNS)\n",
    "\n",
    "start_time = time.time()\n",
    "\n",
    "artist_folders = os.listdir(dataset_root_dir)\n",
    "artist_folders_count = len(artist_folders)\n",
    "\n",
    "AF_START_IDX = 0\n",
    "AF_END_IDX   = artist_folders_count\n",
    "\n",
    "midi_files_processed = 0\n",
    "\n",
    "af_subsection = artist_folders[AF_START_IDX:AF_END_IDX]\n",
    "\n",
    "for af_idx, artist_folder in enumerate(af_subsection):\n",
    "    artist_folder_path = os.path.join(dataset_root_dir, artist_folder)\n",
    "    # Skip non-directories\n",
    "    if not os.path.isdir(artist_folder_path):\n",
    "        continue\n",
    "    print(f\"Artist folder {af_idx+AF_START_IDX+1} of {artist_folders_count}: {artist_folder}\")\n",
    "    \n",
    "    artist_midi_files = os.listdir(artist_folder_path)\n",
    "    artist_midi_files_count = len(artist_midi_files)\n",
    "    \n",
    "    # Loop through files in artist folder\n",
    "    for mf_idx, midi_file_name in enumerate(artist_midi_files):\n",
    "        try:\n",
    "            if not midi_file_name.lower().endswith(\".mid\"):\n",
    "                continue\n",
    "            print(f\"  MIDI file {mf_idx+1} of {artist_midi_files_count}: {midi_file_name}\")\n",
    "            midi_file_path = os.path.join(artist_folder_path, midi_file_name)\n",
    "            midi_file = pm.PrettyMIDI(midi_file_path)\n",
    "    \n",
    "            # Find melody instrument\n",
    "            melody_instrument = processor.get_melody_instrument(midi_file)\n",
    "    \n",
    "            # Get key signatures\n",
    "            key_signatures = processor.get_key_signatures(midi_file)\n",
    "    \n",
    "            # Get chords and add to df\n",
    "            midi_file_chords_array = processor.get_chords_as_array(midi_file, melody_instrument, key_signatures)\n",
    "            midi_file_chords_df = pd.DataFrame.from_records(midi_file_chords_array, columns=DF_COLUMNS, coerce_float=True)\n",
    "            chords_df = pd.concat((chords_df, midi_file_chords_df))\n",
    "            \n",
    "            # Update iterator for counting total files processed\n",
    "            midi_files_processed += 1\n",
    "            \n",
    "        except Exception as e:\n",
    "            print(f\"    Error processing {midi_file_name}: {e.__class__}, skipping file.\")\n",
    "    \n",
    "    print(\"-----\")\n",
    "\n",
    "print(f\"COMPLETED dataset processing from artist folder {AF_START_IDX}-{AF_END_IDX-1} of {artist_folders_count} in {timedelta(seconds=(round(time.time() - start_time, 3)))}\")\n",
    "print(f\"Total MIDI files processed: {midi_files_processed}\")\n",
    "\n",
    "# Save section to file\n",
    "csv_filepath = f\"./chords_datasets/chords_dataset_idx-{str(AF_START_IDX).rjust(4, '0')}-{str(AF_END_IDX-1).rjust(4, '0')}.csv\"\n",
    "chords_df.to_csv(csv_filepath, index=False)\n",
    "print(f\"Chords saved at: {csv_filepath}\")"
   ]
  },
  {
   "cell_type": "markdown",
   "id": "5f27b9b3",
   "metadata": {},
   "source": [
    "#### View dataset inline"
   ]
  },
  {
   "cell_type": "code",
   "execution_count": null,
   "id": "8098b748-e9c3-4878-9207-e6136e367436",
   "metadata": {},
   "outputs": [],
   "source": [
    "chords_df"
   ]
  },
  {
   "cell_type": "markdown",
   "id": "728f21ac",
   "metadata": {},
   "source": [
    "#### Plot quantities of each chroma pitch in the extracted chroma histograms dataset"
   ]
  },
  {
   "cell_type": "code",
   "execution_count": null,
   "id": "ce801c02-2c39-402a-802e-3b3ce7daa283",
   "metadata": {},
   "outputs": [],
   "source": [
    "chroma_sums = []\n",
    "for col_name, series in chords_df.items():\n",
    "    if col_name != \"melody_chroma\":\n",
    "        print(f\"{col_name}:\\t{series.sum()}\")\n",
    "        chroma_sums.append(series.sum())\n",
    "\n",
    "x_label = [\"T\", \"m2\", \"M2\", \"m3\", \"M3\", \"P4\", \"a4\", \"P5\", \"m6\", \"M6\", \"m7\", \"M7\"]\n",
    "\n",
    "plt.bar(x_label, np.array(chroma_sums)/sum(chroma_sums))\n",
    "plt.show()"
   ]
  }
 ],
 "metadata": {
  "kernelspec": {
   "display_name": "Python 3 (ipykernel)",
   "language": "python",
   "name": "python3"
  },
  "language_info": {
   "codemirror_mode": {
    "name": "ipython",
    "version": 3
   },
   "file_extension": ".py",
   "mimetype": "text/x-python",
   "name": "python",
   "nbconvert_exporter": "python",
   "pygments_lexer": "ipython3",
   "version": "3.11.7"
  }
 },
 "nbformat": 4,
 "nbformat_minor": 5
}
